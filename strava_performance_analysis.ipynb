{
 "cells": [
  {
   "attachments": {
    "strava%20logo.png": {
     "image/png": "[encoded data removed]"
    }
   },
   "cell_type": "markdown",
   "metadata": {},
   "source": [
    "<img src=\"attachment:strava%20logo.png\" width=\"150\"/>"
   ]
  },
  {
   "cell_type": "markdown",
   "metadata": {},
   "source": [
    "# Strava Performance Report"
   ]
  },
  {
   "cell_type": "markdown",
   "metadata": {},
   "source": [
    "Latest update: November 28, 2021"
   ]
  },
  {
   "cell_type": "markdown",
   "metadata": {},
   "source": [
    "This report leverages Strava's Developer API to generate analyses on biking data collected through workout streaming via the Strava mobile app. For more information on the Strava API, please see the [API documentation](https://developers.strava.com/docs/getting-started/). Additionally, this [Medium article](https://medium.com/swlh/using-python-to-connect-to-stravas-api-and-analyse-your-activities-dummies-guide-5f49727aac86) provides a more detailed description of how to access and use the Strava API."
   ]
  },
  {
   "cell_type": "code",
   "execution_count": 1,
   "metadata": {},
   "outputs": [
    {
     "name": "stderr",
     "output_type": "stream",
     "text": [
      "//anaconda3/lib/python3.7/site-packages/statsmodels/tools/_testing.py:19: FutureWarning: pandas.util.testing is deprecated. Use the functions in the public API at pandas.testing instead.\n",
      "  import pandas.util.testing as tm\n"
     ]
    }
   ],
   "source": [
    "import pandas as pd\n",
    "import requests\n",
    "import time\n",
    "from datetime import datetime\n",
    "import seaborn as sns\n",
    "import matplotlib\n",
    "import matplotlib.pyplot as plt\n",
    "from scipy.stats import linregress\n",
    "import warnings\n",
    "\n",
    "warnings.filterwarnings(\"ignore\")"
   ]
  },
  {
   "cell_type": "markdown",
   "metadata": {},
   "source": [
    "Personal data was hidden from this report, but to replicate, access the Strava API page, create a new application and input authentification code, client ID, and client secret below. The authentification code has a limited useable time period, so it will likely need to be updated often. Refer to Strava API documentation for instructions on how to do this."
   ]
  },
  {
   "cell_type": "code",
   "execution_count": 3,
   "metadata": {},
   "outputs": [],
   "source": [
    "#auth_code = AUTH_CODE_HIDDEN\n",
    "#client_id = CLIENT_ID_HIDDEN\n",
    "#client_secret = CLIENT_SECRET_HIDDEN"
   ]
  },
  {
   "cell_type": "markdown",
   "metadata": {},
   "source": [
    "The 'get_activities' function created below will return a dataframe of data from the Strava user associated with parameter inputs. Please note, the function does not incorporate every data point available from Strava's API."
   ]
  },
  {
   "cell_type": "code",
   "execution_count": 4,
   "metadata": {},
   "outputs": [],
   "source": [
    "def get_activities(auth_code, client_id, client_secret):\n",
    "    \n",
    "    # Make Strava auth API call with your client_code, client_secret and code\n",
    "    response = requests.post(\n",
    "                        url = 'https://www.strava.com/oauth/token',\n",
    "                        data = {\n",
    "                                'client_id': client_id,\n",
    "                                'client_secret': client_secret,\n",
    "                                'code': auth_code,\n",
    "                                'grant_type': 'authorization_code'\n",
    "                                })\n",
    "    \n",
    "    strava_tokens = response.json()\n",
    "        \n",
    "    ## If access_token has expired then use the refresh_token to get the new access_token\n",
    "    if strava_tokens['expires_at'] < time.time():\n",
    "    #Make Strava auth API call with current refresh token\n",
    "        response = requests.post(\n",
    "                            url = 'https://www.strava.com/oauth/token',\n",
    "                            data = {\n",
    "                                    'client_id': client_id,\n",
    "                                    'client_secret': client_secret,\n",
    "                                    'grant_type': 'refresh_token',\n",
    "                                    'refresh_token': strava_tokens['refresh_token']\n",
    "                                    })\n",
    "        \n",
    "        # Save response as json in new variable\n",
    "        new_strava_tokens = response.json()\n",
    "            \n",
    "        #Use new Strava tokens from now\n",
    "        strava_tokens = new_strava_tokens\n",
    "        \n",
    "    #Loop through all activities\n",
    "    page = 1\n",
    "    url = \"https://www.strava.com/api/v3/activities\"\n",
    "    access_token = strava_tokens['access_token']\n",
    "    \n",
    "    ## Create the dataframe ready for the API call to store your activity data\n",
    "    activities = pd.DataFrame(\n",
    "        columns = [\n",
    "                \"id\",\n",
    "                \"name\",\n",
    "                \"start_date_local\",\n",
    "                \"type\",\n",
    "                \"distance\",\n",
    "                \"moving_time\",\n",
    "                \"elapsed_time\",\n",
    "                \"total_elevation_gain\",\n",
    "                \"start_latitude\",\n",
    "                \"start_longitude\",\n",
    "                \"workout_type\",\n",
    "                \"average_speed\",\n",
    "                \"max_speed\"])\n",
    "    \n",
    "    while True:\n",
    "        \n",
    "        # get page of activities from Strava\n",
    "        r = requests.get(url + '?access_token=' + access_token + '&per_page=200' + '&page=' + str(page))\n",
    "        r = r.json()\n",
    "        \n",
    "        # if no results then exit loop\n",
    "        if (not r):\n",
    "            break\n",
    "        \n",
    "        # otherwise add new data to dataframe\n",
    "        for x in range(len(r)):\n",
    "            activities.loc[x + (page-1)*200,'id'] = r[x]['id']\n",
    "            activities.loc[x + (page-1)*200,'name'] = r[x]['name']\n",
    "            activities.loc[x + (page-1)*200,'start_date_local'] = r[x]['start_date_local']\n",
    "            activities.loc[x + (page-1)*200,'type'] = r[x]['type']\n",
    "            activities.loc[x + (page-1)*200,'distance'] = r[x]['distance']\n",
    "            activities.loc[x + (page-1)*200,'moving_time'] = r[x]['moving_time']\n",
    "            activities.loc[x + (page-1)*200,'elapsed_time'] = r[x]['elapsed_time']\n",
    "            activities.loc[x + (page-1)*200,'total_elevation_gain'] = r[x]['total_elevation_gain']\n",
    "            activities.loc[x + (page-1)*200,'start_latitude'] = r[x]['start_latitude']\n",
    "            activities.loc[x + (page-1)*200,'start_longitude'] = r[x]['start_longitude']\n",
    "            activities.loc[x + (page-1)*200,'workout_type'] = r[x]['workout_type']\n",
    "            activities.loc[x + (page-1)*200,'average_speed'] = r[x]['average_speed']\n",
    "            activities.loc[x + (page-1)*200,'max_speed'] = r[x]['max_speed']\n",
    "            \n",
    "        # increment page\n",
    "        page += 1\n",
    "        \n",
    "    return(activities)"
   ]
  },
  {
   "cell_type": "code",
   "execution_count": 5,
   "metadata": {},
   "outputs": [
    {
     "data": {
      "text/html": [
       "<div>\n",
       "<style scoped>\n",
       "    .dataframe tbody tr th:only-of-type {\n",
       "        vertical-align: middle;\n",
       "    }\n",
       "\n",
       "    .dataframe tbody tr th {\n",
       "        vertical-align: top;\n",
       "    }\n",
       "\n",
       "    .dataframe thead th {\n",
       "        text-align: right;\n",
       "    }\n",
       "</style>\n",
       "<table border=\"1\" class=\"dataframe\">\n",
       "  <thead>\n",
       "    <tr style=\"text-align: right;\">\n",
       "      <th></th>\n",
       "      <th>id</th>\n",
       "      <th>name</th>\n",
       "      <th>start_date_local</th>\n",
       "      <th>type</th>\n",
       "      <th>distance</th>\n",
       "      <th>moving_time</th>\n",
       "      <th>elapsed_time</th>\n",
       "      <th>total_elevation_gain</th>\n",
       "      <th>start_latitude</th>\n",
       "      <th>start_longitude</th>\n",
       "      <th>workout_type</th>\n",
       "      <th>average_speed</th>\n",
       "      <th>max_speed</th>\n",
       "    </tr>\n",
       "  </thead>\n",
       "  <tbody>\n",
       "    <tr>\n",
       "      <th>0</th>\n",
       "      <td>6319244383</td>\n",
       "      <td>Thanksgiving burn off</td>\n",
       "      <td>2021-11-28T13:04:26Z</td>\n",
       "      <td>Ride</td>\n",
       "      <td>20399.5</td>\n",
       "      <td>4010</td>\n",
       "      <td>4313</td>\n",
       "      <td>104.7</td>\n",
       "      <td>32.794929</td>\n",
       "      <td>-96.796510</td>\n",
       "      <td>11</td>\n",
       "      <td>5.087</td>\n",
       "      <td>9.916</td>\n",
       "    </tr>\n",
       "    <tr>\n",
       "      <th>1</th>\n",
       "      <td>6277258601</td>\n",
       "      <td>Haircut after 3 weeks on the road</td>\n",
       "      <td>2021-11-18T19:15:20Z</td>\n",
       "      <td>Ride</td>\n",
       "      <td>3716.1</td>\n",
       "      <td>947</td>\n",
       "      <td>1603</td>\n",
       "      <td>7.4</td>\n",
       "      <td>32.794817</td>\n",
       "      <td>-96.796944</td>\n",
       "      <td>12</td>\n",
       "      <td>3.924</td>\n",
       "      <td>10.030</td>\n",
       "    </tr>\n",
       "    <tr>\n",
       "      <th>2</th>\n",
       "      <td>6189598941</td>\n",
       "      <td>Last ride beforehand busy November</td>\n",
       "      <td>2021-10-30T17:30:41Z</td>\n",
       "      <td>Ride</td>\n",
       "      <td>13164.2</td>\n",
       "      <td>2577</td>\n",
       "      <td>5819</td>\n",
       "      <td>55.7</td>\n",
       "      <td>32.794822</td>\n",
       "      <td>-96.796438</td>\n",
       "      <td>11</td>\n",
       "      <td>5.108</td>\n",
       "      <td>9.006</td>\n",
       "    </tr>\n",
       "    <tr>\n",
       "      <th>3</th>\n",
       "      <td>6089983858</td>\n",
       "      <td>First ride with Cyn!</td>\n",
       "      <td>2021-10-09T11:03:38Z</td>\n",
       "      <td>Ride</td>\n",
       "      <td>13641.4</td>\n",
       "      <td>3648</td>\n",
       "      <td>5360</td>\n",
       "      <td>59.0</td>\n",
       "      <td>32.794422</td>\n",
       "      <td>-96.797349</td>\n",
       "      <td>10</td>\n",
       "      <td>3.739</td>\n",
       "      <td>12.000</td>\n",
       "    </tr>\n",
       "    <tr>\n",
       "      <th>4</th>\n",
       "      <td>6019608598</td>\n",
       "      <td>Night Ride</td>\n",
       "      <td>2021-09-25T19:18:12Z</td>\n",
       "      <td>Ride</td>\n",
       "      <td>12230.3</td>\n",
       "      <td>3115</td>\n",
       "      <td>3768</td>\n",
       "      <td>60.2</td>\n",
       "      <td>32.794697</td>\n",
       "      <td>-96.796575</td>\n",
       "      <td>12</td>\n",
       "      <td>3.926</td>\n",
       "      <td>10.700</td>\n",
       "    </tr>\n",
       "  </tbody>\n",
       "</table>\n",
       "</div>"
      ],
      "text/plain": [
       "           id                                name      start_date_local  type  \\\n",
       "0  6319244383              Thanksgiving burn off   2021-11-28T13:04:26Z  Ride   \n",
       "1  6277258601   Haircut after 3 weeks on the road  2021-11-18T19:15:20Z  Ride   \n",
       "2  6189598941  Last ride beforehand busy November  2021-10-30T17:30:41Z  Ride   \n",
       "3  6089983858                First ride with Cyn!  2021-10-09T11:03:38Z  Ride   \n",
       "4  6019608598                          Night Ride  2021-09-25T19:18:12Z  Ride   \n",
       "\n",
       "  distance moving_time elapsed_time total_elevation_gain start_latitude  \\\n",
       "0  20399.5        4010         4313                104.7      32.794929   \n",
       "1   3716.1         947         1603                  7.4      32.794817   \n",
       "2  13164.2        2577         5819                 55.7      32.794822   \n",
       "3  13641.4        3648         5360                 59.0      32.794422   \n",
       "4  12230.3        3115         3768                 60.2      32.794697   \n",
       "\n",
       "  start_longitude workout_type average_speed max_speed  \n",
       "0      -96.796510           11         5.087     9.916  \n",
       "1      -96.796944           12         3.924    10.030  \n",
       "2      -96.796438           11         5.108     9.006  \n",
       "3      -96.797349           10         3.739    12.000  \n",
       "4      -96.796575           12         3.926    10.700  "
      ]
     },
     "execution_count": 5,
     "metadata": {},
     "output_type": "execute_result"
    }
   ],
   "source": [
    "activities = get_activities(auth_code, client_id, client_secret)\n",
    "activities.head()"
   ]
  },
  {
   "cell_type": "code",
   "execution_count": 6,
   "metadata": {},
   "outputs": [],
   "source": [
    "# Convert numeric variables to float types\n",
    "activities[[\"distance\", \n",
    "            \"moving_time\", \n",
    "            \"elapsed_time\", \n",
    "            \"total_elevation_gain\", \n",
    "            \"start_latitude\", \n",
    "            \"start_longitude\", \n",
    "            \"average_speed\", \n",
    "            \"max_speed\"]] = activities[[\"distance\", \n",
    "                                        \"moving_time\", \n",
    "                                        \"elapsed_time\", \n",
    "                                        \"total_elevation_gain\", \n",
    "                                        \"start_latitude\", \n",
    "                                        \"start_longitude\", \n",
    "                                        \"average_speed\", \n",
    "                                        \"max_speed\"]].astype(float)"
   ]
  },
  {
   "cell_type": "code",
   "execution_count": 7,
   "metadata": {},
   "outputs": [],
   "source": [
    "# Clean existing fields, derive new fields\n",
    "activities['start_date_local'] = activities['start_date_local'].apply(lambda x: datetime.strptime(x, '%Y-%m-%dT%H:%M:%SZ'))\n",
    "\n",
    "activities['month'] = activities['start_date_local'].apply(lambda x: x.strftime('%b'))\n",
    "activities['year_month'] = activities['start_date_local'].apply(lambda x: x.strftime('%Y%m'))\n",
    "activities['year_month'] = activities['year_month'].apply(str)\n",
    "\n",
    "activities['hour_of_day'] = activities['start_date_local'].apply(lambda x: x.hour)\n",
    "activities['time_of_day'] = activities['hour_of_day'].apply(lambda x: \"Morning\" if x < 12 else \"Afternoon\" if x < 17 else \"Evening\")\n",
    "\n",
    "activities['distance_miles'] = activities['distance']/1609\n",
    "activities['moving_time_hr'] = activities['moving_time']/3600\n",
    "activities['elapsed_time_hr'] = activities['elapsed_time']/3600\n",
    "activities['ride_time_share'] = activities['moving_time_hr']/activities['elapsed_time_hr']\n",
    "    \n",
    "activities['workout_type'] = activities['workout_type'].apply(lambda x: \"Workout\" if x == 11 else \"Casual\")"
   ]
  },
  {
   "cell_type": "code",
   "execution_count": 8,
   "metadata": {},
   "outputs": [
    {
     "data": {
      "text/html": [
       "<div>\n",
       "<style scoped>\n",
       "    .dataframe tbody tr th:only-of-type {\n",
       "        vertical-align: middle;\n",
       "    }\n",
       "\n",
       "    .dataframe tbody tr th {\n",
       "        vertical-align: top;\n",
       "    }\n",
       "\n",
       "    .dataframe thead th {\n",
       "        text-align: right;\n",
       "    }\n",
       "</style>\n",
       "<table border=\"1\" class=\"dataframe\">\n",
       "  <thead>\n",
       "    <tr style=\"text-align: right;\">\n",
       "      <th></th>\n",
       "      <th>id</th>\n",
       "      <th>year_month</th>\n",
       "      <th>month</th>\n",
       "      <th>hour_of_day</th>\n",
       "      <th>time_of_day</th>\n",
       "      <th>type</th>\n",
       "      <th>distance_miles</th>\n",
       "      <th>moving_time_hr</th>\n",
       "      <th>elapsed_time_hr</th>\n",
       "      <th>ride_time_share</th>\n",
       "      <th>total_elevation_gain</th>\n",
       "      <th>start_latitude</th>\n",
       "      <th>start_longitude</th>\n",
       "      <th>workout_type</th>\n",
       "      <th>average_speed</th>\n",
       "      <th>max_speed</th>\n",
       "    </tr>\n",
       "  </thead>\n",
       "  <tbody>\n",
       "    <tr>\n",
       "      <th>0</th>\n",
       "      <td>6319244383</td>\n",
       "      <td>202111</td>\n",
       "      <td>Nov</td>\n",
       "      <td>13</td>\n",
       "      <td>Afternoon</td>\n",
       "      <td>Ride</td>\n",
       "      <td>12.678372</td>\n",
       "      <td>1.113889</td>\n",
       "      <td>1.198056</td>\n",
       "      <td>0.929747</td>\n",
       "      <td>104.7</td>\n",
       "      <td>32.794929</td>\n",
       "      <td>-96.796510</td>\n",
       "      <td>Workout</td>\n",
       "      <td>5.087</td>\n",
       "      <td>9.916</td>\n",
       "    </tr>\n",
       "    <tr>\n",
       "      <th>1</th>\n",
       "      <td>6277258601</td>\n",
       "      <td>202111</td>\n",
       "      <td>Nov</td>\n",
       "      <td>19</td>\n",
       "      <td>Evening</td>\n",
       "      <td>Ride</td>\n",
       "      <td>2.309571</td>\n",
       "      <td>0.263056</td>\n",
       "      <td>0.445278</td>\n",
       "      <td>0.590767</td>\n",
       "      <td>7.4</td>\n",
       "      <td>32.794817</td>\n",
       "      <td>-96.796944</td>\n",
       "      <td>Casual</td>\n",
       "      <td>3.924</td>\n",
       "      <td>10.030</td>\n",
       "    </tr>\n",
       "    <tr>\n",
       "      <th>2</th>\n",
       "      <td>6189598941</td>\n",
       "      <td>202110</td>\n",
       "      <td>Oct</td>\n",
       "      <td>17</td>\n",
       "      <td>Evening</td>\n",
       "      <td>Ride</td>\n",
       "      <td>8.181603</td>\n",
       "      <td>0.715833</td>\n",
       "      <td>1.616389</td>\n",
       "      <td>0.442860</td>\n",
       "      <td>55.7</td>\n",
       "      <td>32.794822</td>\n",
       "      <td>-96.796438</td>\n",
       "      <td>Workout</td>\n",
       "      <td>5.108</td>\n",
       "      <td>9.006</td>\n",
       "    </tr>\n",
       "    <tr>\n",
       "      <th>3</th>\n",
       "      <td>6089983858</td>\n",
       "      <td>202110</td>\n",
       "      <td>Oct</td>\n",
       "      <td>11</td>\n",
       "      <td>Morning</td>\n",
       "      <td>Ride</td>\n",
       "      <td>8.478185</td>\n",
       "      <td>1.013333</td>\n",
       "      <td>1.488889</td>\n",
       "      <td>0.680597</td>\n",
       "      <td>59.0</td>\n",
       "      <td>32.794422</td>\n",
       "      <td>-96.797349</td>\n",
       "      <td>Casual</td>\n",
       "      <td>3.739</td>\n",
       "      <td>12.000</td>\n",
       "    </tr>\n",
       "    <tr>\n",
       "      <th>4</th>\n",
       "      <td>6019608598</td>\n",
       "      <td>202109</td>\n",
       "      <td>Sep</td>\n",
       "      <td>19</td>\n",
       "      <td>Evening</td>\n",
       "      <td>Ride</td>\n",
       "      <td>7.601181</td>\n",
       "      <td>0.865278</td>\n",
       "      <td>1.046667</td>\n",
       "      <td>0.826699</td>\n",
       "      <td>60.2</td>\n",
       "      <td>32.794697</td>\n",
       "      <td>-96.796575</td>\n",
       "      <td>Casual</td>\n",
       "      <td>3.926</td>\n",
       "      <td>10.700</td>\n",
       "    </tr>\n",
       "  </tbody>\n",
       "</table>\n",
       "</div>"
      ],
      "text/plain": [
       "           id year_month month  hour_of_day time_of_day  type  distance_miles  \\\n",
       "0  6319244383     202111   Nov           13   Afternoon  Ride       12.678372   \n",
       "1  6277258601     202111   Nov           19     Evening  Ride        2.309571   \n",
       "2  6189598941     202110   Oct           17     Evening  Ride        8.181603   \n",
       "3  6089983858     202110   Oct           11     Morning  Ride        8.478185   \n",
       "4  6019608598     202109   Sep           19     Evening  Ride        7.601181   \n",
       "\n",
       "   moving_time_hr  elapsed_time_hr  ride_time_share  total_elevation_gain  \\\n",
       "0        1.113889         1.198056         0.929747                 104.7   \n",
       "1        0.263056         0.445278         0.590767                   7.4   \n",
       "2        0.715833         1.616389         0.442860                  55.7   \n",
       "3        1.013333         1.488889         0.680597                  59.0   \n",
       "4        0.865278         1.046667         0.826699                  60.2   \n",
       "\n",
       "   start_latitude  start_longitude workout_type  average_speed  max_speed  \n",
       "0       32.794929       -96.796510      Workout          5.087      9.916  \n",
       "1       32.794817       -96.796944       Casual          3.924     10.030  \n",
       "2       32.794822       -96.796438      Workout          5.108      9.006  \n",
       "3       32.794422       -96.797349       Casual          3.739     12.000  \n",
       "4       32.794697       -96.796575       Casual          3.926     10.700  "
      ]
     },
     "execution_count": 8,
     "metadata": {},
     "output_type": "execute_result"
    }
   ],
   "source": [
    "# Remove unnecessary columns\n",
    "activities = activities[['id', 'year_month', 'month', 'hour_of_day', 'time_of_day', 'type', \n",
    "                         'distance_miles', 'moving_time_hr', 'elapsed_time_hr', 'ride_time_share', \n",
    "                         'total_elevation_gain', 'start_latitude', 'start_longitude', 'workout_type', \n",
    "                         'average_speed', 'max_speed']]\n",
    "activities.head()"
   ]
  },
  {
   "cell_type": "markdown",
   "metadata": {},
   "source": [
    "### Total Performance\n",
    "Total miles and number of rides by month"
   ]
  },
  {
   "cell_type": "code",
   "execution_count": 9,
   "metadata": {},
   "outputs": [
    {
     "data": {
      "image/png": "[encoded data removed]",
      "text/plain": [
       "<Figure size 936x360 with 2 Axes>"
      ]
     },
     "metadata": {
      "needs_background": "light"
     },
     "output_type": "display_data"
    }
   ],
   "source": [
    "total_bar_line = activities.groupby(['year_month']).agg({'distance_miles':'sum', 'id':'count'}).reset_index()\n",
    "\n",
    "fig, ax = plt.subplots(figsize = (13, 5))\n",
    "plt.title('Total performance')\n",
    "\n",
    "ax2 = ax.twinx()\n",
    "ax.bar(\"year_month\", \"id\", data = total_bar_line, alpha=0.5, color = 'lightgrey')\n",
    "ax2.plot(\"year_month\", \"distance_miles\", data = total_bar_line, marker = 'o', color = 'r')\n",
    "\n",
    "ax.set_xlabel('Month')\n",
    "ax.set_ylabel('Number of workouts')\n",
    "ax2.set_ylabel('Miles traveled', color = 'r')\n",
    "\n",
    "for i, dist in enumerate(total_bar_line['distance_miles']):\n",
    "    plt.annotate(round(dist, 1),(total_bar_line['year_month'][i], total_bar_line['distance_miles'][i]-2.5))\n",
    "\n",
    "ax.set_ylim (0, 10)\n",
    "ax2.set_ylim (0, 50)\n",
    "\n",
    "plt.tight_layout()\n",
    "plt.show()"
   ]
  },
  {
   "cell_type": "markdown",
   "metadata": {},
   "source": [
    "### Favorite times of day\n",
    "Moving time by time of day over time"
   ]
  },
  {
   "cell_type": "code",
   "execution_count": 10,
   "metadata": {},
   "outputs": [
    {
     "data": {
      "image/png": "[encoded data removed]",
      "text/plain": [
       "<Figure size 936x360 with 1 Axes>"
      ]
     },
     "metadata": {
      "needs_background": "light"
     },
     "output_type": "display_data"
    }
   ],
   "source": [
    "ride_time = activities[['year_month', 'workout_type', 'moving_time_hr', 'time_of_day']]\n",
    "\n",
    "ride_time = ride_time.groupby(['year_month', 'time_of_day']).agg({'moving_time_hr':'sum'}).reset_index()\n",
    "ride_time_pivot = ride_time.pivot(index='year_month', columns='time_of_day', values='moving_time_hr')\n",
    "\n",
    "colors = [\"#bde3ff\", \"#7b87b2\",\"#4e2f5c\"]\n",
    "\n",
    "plot = ride_time_pivot.loc[:,['Morning','Afternoon', 'Evening']].plot.bar(stacked=True, color=colors, figsize=(13,5))\n",
    "\n",
    "plot.set_xlabel('Month')\n",
    "plot.set_ylabel('Moving time (hours)')\n",
    "plt.xticks(rotation = 0)\n",
    "\n",
    "plt.tight_layout()\n",
    "plt.show()"
   ]
  },
  {
   "cell_type": "markdown",
   "metadata": {},
   "source": [
    "### Working out more or commuting more?\n",
    "Share of miles completed via workout by month"
   ]
  },
  {
   "cell_type": "code",
   "execution_count": 11,
   "metadata": {},
   "outputs": [
    {
     "data": {
      "image/png": "[encoded data removed]",
      "text/plain": [
       "<Figure size 936x360 with 1 Axes>"
      ]
     },
     "metadata": {
      "needs_background": "light"
     },
     "output_type": "display_data"
    }
   ],
   "source": [
    "miles_share = activities.groupby(['year_month', 'workout_type']).agg({'distance_miles':'sum'}).reset_index()\n",
    "miles_share = miles_share.pivot(index='year_month', columns='workout_type', values='distance_miles').reset_index()\n",
    "miles_share['workout_share'] = miles_share['Workout']/(miles_share['Casual']+miles_share['Workout'])\n",
    "\n",
    "fig, ax = plt.subplots(figsize = (13, 5))\n",
    "plt.title('Share of miles completed via workout by month')\n",
    "\n",
    "ax.plot(\"year_month\", \"workout_share\", data = miles_share, marker = 'o', color = 'black')\n",
    "plt.axhline(y = 0.5, color = 'r', linestyle = '--', linewidth = 1)\n",
    "\n",
    "ax.set_xlabel('Month')\n",
    "ax.set_ylabel('Share of total miles from workouts')\n",
    "\n",
    "ax.set_ylim (0, 1)\n",
    "\n",
    "for i, dst in enumerate(miles_share['workout_share']):\n",
    "    plt.annotate(round(dst, 2),(miles_share['year_month'][i], miles_share['workout_share'][i]-0.05))\n",
    "\n",
    "plt.tight_layout()\n",
    "plt.show()"
   ]
  },
  {
   "cell_type": "markdown",
   "metadata": {},
   "source": [
    "### Effect of ride length on average speed in workouts"
   ]
  },
  {
   "cell_type": "code",
   "execution_count": 12,
   "metadata": {},
   "outputs": [
    {
     "data": {
      "image/png": "[encoded data removed]",
      "text/plain": [
       "<Figure size 936x360 with 1 Axes>"
      ]
     },
     "metadata": {
      "needs_background": "light"
     },
     "output_type": "display_data"
    },
    {
     "name": "stdout",
     "output_type": "stream",
     "text": [
      "Average speed tends to decreases as ride length increases\n",
      "For every additional 30 minutes of riding, average speed is expected to change by -0.7 mph\n",
      "\n",
      "\n",
      "However, the relationship between ride length and average speed (as indicated by a p value of 0.39) does not pass the 80% confidence level, so this analysis is not trustworthy proof of a relationship\n"
     ]
    }
   ],
   "source": [
    "time_speed_plot = activities\n",
    "time_speed_plot['average_speed_mph'] = time_speed_plot['distance_miles']/time_speed_plot['moving_time_hr']\n",
    "time_speed_plot = activities[activities['workout_type'] == \"Workout\"]\n",
    "\n",
    "fig, ax = plt.subplots(figsize = (13, 5))\n",
    "plt.title('Ride length vs. average speed')\n",
    "\n",
    "ax = sns.regplot(x=\"moving_time_hr\", y=\"average_speed_mph\", data=time_speed_plot, ci=None, color = \"black\")\n",
    "\n",
    "ax.set_xlabel('Moving time (hours)')\n",
    "ax.set_ylabel('Average speed (mph)')\n",
    "\n",
    "plt.tight_layout()\n",
    "plt.show()\n",
    "\n",
    "# ==========\n",
    "\n",
    "trendline_results = linregress(time_speed_plot['moving_time_hr'],time_speed_plot['average_speed_mph'])\n",
    "\n",
    "slope = trendline_results.slope\n",
    "rvalue = trendline_results.rvalue\n",
    "pvalue = trendline_results.pvalue\n",
    "\n",
    "if rvalue < 0:\n",
    "    direction = \"decreases\"\n",
    "elif rvalue > 0:\n",
    "    direction = \"increases\"\n",
    "else:\n",
    "    direction = \"randomly increase or decrease\"\n",
    "\n",
    "print(\"Average speed tends to \" + direction + \" as ride length increases\")\n",
    "print(\"For every additional 30 minutes of riding, average speed is expected to change by \" + str(round(slope/2, 1)) + \" mph\")\n",
    "print(\"\\n\")\n",
    "\n",
    "if pvalue > 0.2:\n",
    "    print(\"However, the relationship between ride length and average speed (as indicated by a p value of \" \n",
    "          + str(round(pvalue, 2)) + \") does not pass the 80% confidence level, so this analysis is not trustworthy proof of a relationship\")"
   ]
  }
 ],
 "metadata": {
  "kernelspec": {
   "display_name": "Python 3",
   "language": "python",
   "name": "python3"
  },
  "language_info": {
   "codemirror_mode": {
    "name": "ipython",
    "version": 3
   },
   "file_extension": ".py",
   "mimetype": "text/x-python",
   "name": "python",
   "nbconvert_exporter": "python",
   "pygments_lexer": "ipython3",
   "version": "3.7.3"
  }
 },
 "nbformat": 4,
 "nbformat_minor": 2
}
